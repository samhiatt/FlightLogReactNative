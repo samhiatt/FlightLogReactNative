{
 "cells": [
  {
   "cell_type": "code",
   "execution_count": 1,
   "metadata": {
    "collapsed": false
   },
   "outputs": [],
   "source": [
    "import firebase_admin\n",
    "from firebase_admin import db\n",
    "\n",
    "cred = firebase_admin.credentials.Certificate('/Users/sam/Downloads/flightlog-235e4-firebase-adminsdk-uvrwi-d8510b3147.json')\n",
    "\n",
    "flightLog = firebase_admin.initialize_app(cred,{'databaseURL':'https://flightlog-235e4.firebaseio.com/'})\n"
   ]
  },
  {
   "cell_type": "code",
   "execution_count": 143,
   "metadata": {
    "collapsed": false
   },
   "outputs": [],
   "source": [
    "import csv\n",
    "with open(\"data/ParaglidingLog.csv\") as csvfile:\n",
    "    flights = list(csv.DictReader(csvfile, delimiter=',', quotechar='\"'))\n",
    "    \n",
    "from datetime import datetime, date\n",
    "\n",
    "epoch = datetime.utcfromtimestamp(0)\n",
    "\n",
    "def unix_time_millis(dt):\n",
    "    return (dt - epoch).total_seconds() * 1000.0\n",
    "\n",
    "flights = [{}]+flights\n",
    "for flight in flights:\n",
    "    if '' in flight.keys():\n",
    "#         print flight['date'],flight['start_time'],flight['end_time']\n",
    "#         print flight\n",
    "        flight['id']=flight['flight']\n",
    "        flight['flight']=int(flight['flight'])\n",
    "        try:\n",
    "            d = datetime.strptime(flight['date'],'%m/%d/%y')\n",
    "        except:\n",
    "            d = datetime.strptime(flight['date'],'%Y-%m-%d')\n",
    "        flight['date'] = d.isoformat()[:10]\n",
    "        if flight['start_time']:\n",
    "            try:\n",
    "                launchTime = datetime.strptime(flight['date']+' '+flight['start_time'],'%m/%d/%y %I:%M %p')\n",
    "            except:\n",
    "                launchTime = datetime.strptime(flight['date']+' '+flight['start_time'],'%Y-%m-%d %I:%M %p')\n",
    "            flight['launch_time_iso'] = launchTime.isoformat()\n",
    "#             flight['launch_time_epoch'] = unix_time_millis(launchTime)\n",
    "        else:\n",
    "            flight['launch_time_iso'] = None\n",
    "#             flight['launch_time_epoch'] = None\n",
    "        if flight['end_time']:\n",
    "            try:\n",
    "                landingTime = datetime.strptime(flight['date']+' '+flight['end_time'],'%m/%d/%y %I:%M %p')\n",
    "            except:\n",
    "                landingTime = datetime.strptime(flight['date']+' '+flight['end_time'],'%Y-%m-%d %I:%M %p')\n",
    "            flight['landing_time_iso'] = landingTime.isoformat()\n",
    "#             flight['landing_time_epoch'] = unix_time_millis(landingTime)\n",
    "        else:\n",
    "            flight['landing_time_iso'] = None\n",
    "#             flight['landing_time_epoch'] = None\n",
    "        flight['duration_total_minutes']=int(flight['duration_hours'] or 0)*60+int(flight['duration_minutes'] or 0)\n",
    "        flight['launch_altitude']=int(flight['launch_altitude'] or 0) or None\n",
    "        flight['landing_altitude']=int(flight['landing_altitude'] or 0) or None\n",
    "        flight['max_altitude']=int(flight['max_altitude'] or 0) or None\n",
    "        flight['altitude_gain']=int(flight['altitude_gain'] or 0) or None\n",
    "        flight['vertical_drop']=int(flight['vertical_drop'] or 0) or None\n",
    "        flight['xc_miles']=float(flight['xc_miles'] or 0) or None\n",
    "        flight['total_airtime']=float(flight['total_airtime'])\n",
    "        \n",
    "        flight['updated_epoch'] = int(unix_time_millis(datetime.utcnow()))\n",
    "        \n",
    "        del flight['']\n",
    "        del flight['start_time']\n",
    "        del flight['end_time']\n",
    "        del flight['duration_hours']\n",
    "        del flight['duration_minutes']\n",
    "#         print flight['date'],flight['launch_time_iso'],flight['landing_time_iso'],'\\n'\n",
    "#         print flight\n",
    "    "
   ]
  },
  {
   "cell_type": "code",
   "execution_count": 144,
   "metadata": {
    "collapsed": false
   },
   "outputs": [],
   "source": [
    "myFlights = db.reference('/ALdWWkKJGGZZDJSvtdHpgKFxdLt2/flight_log')"
   ]
  },
  {
   "cell_type": "code",
   "execution_count": 145,
   "metadata": {
    "collapsed": true
   },
   "outputs": [],
   "source": [
    "myFlights.set(flights)"
   ]
  },
  {
   "cell_type": "code",
   "execution_count": 28,
   "metadata": {
    "collapsed": true
   },
   "outputs": [],
   "source": [
    "#myFlights.set([])"
   ]
  },
  {
   "cell_type": "code",
   "execution_count": 136,
   "metadata": {
    "collapsed": false
   },
   "outputs": [],
   "source": [
    "totalMins=0\n",
    "lastTotal=0\n",
    "for flight in flights[21:]:\n",
    "    totalMins+=flight['duration_total_minutes']\n",
    "    flight['total_airtime_computed']=totalMins\n",
    "    \n",
    "    if abs(flight['duration_total_minutes'] -(flight['total_airtime']*60-lastTotal)) > .5:\n",
    "        print flight['flight'], flight['duration_total_minutes'], flight['total_airtime'], flight['total_airtime']*60, flight['total_airtime_computed']\n",
    "    lastTotal = flight['total_airtime']*60\n",
    "#     if flight['landing_time_epoch']:\n",
    "#         flight['duration_total_minutes_computed']=int((flight['landing_time_epoch']-flight['launch_time_epoch'])/60000)\n",
    "#         if flight['duration_total_minutes'] != flight['duration_total_minutes_computed']:\n",
    "#             print flight['flight'],\"check time\", flight['launch_time_iso'], flight['landing_time_iso'], flight['duration_total_minutes'], flight['duration_total_minutes_computed'], flight['total_airtime'], flight['total_airtime_computed']/60.\n",
    "#         if flight['total_airtime'] != flight['total_airtime_computed']/60.:\n",
    "#             print flight['flight'], flight['total_airtime'], flight['total_airtime']*60, flight['total_airtime_computed']\n"
   ]
  },
  {
   "cell_type": "code",
   "execution_count": 29,
   "metadata": {
    "collapsed": false
   },
   "outputs": [],
   "source": [
    "#for flight in flights:\n",
    "#    newFlight = myFlights.push()\n",
    "#    newFlight.set(flight)"
   ]
  },
  {
   "cell_type": "code",
   "execution_count": 49,
   "metadata": {
    "collapsed": false
   },
   "outputs": [
    {
     "data": {
      "text/plain": [
       "736746"
      ]
     },
     "execution_count": 49,
     "metadata": {},
     "output_type": "execute_result"
    }
   ],
   "source": [
    "datetime.now().toordinal()\n"
   ]
  },
  {
   "cell_type": "code",
   "execution_count": 50,
   "metadata": {
    "collapsed": true
   },
   "outputs": [],
   "source": [
    "d=datetime.now()"
   ]
  },
  {
   "cell_type": "code",
   "execution_count": 51,
   "metadata": {
    "collapsed": false
   },
   "outputs": [
    {
     "data": {
      "text/plain": [
       "'Wed Feb 21 19:36:44 2018'"
      ]
     },
     "execution_count": 51,
     "metadata": {},
     "output_type": "execute_result"
    }
   ],
   "source": [
    "d.ctime()\n"
   ]
  },
  {
   "cell_type": "code",
   "execution_count": 53,
   "metadata": {
    "collapsed": false
   },
   "outputs": [
    {
     "ename": "TypeError",
     "evalue": "unsupported operand type(s) for *: 'int' and 'datetime.datetime'",
     "output_type": "error",
     "traceback": [
      "\u001b[0;31m---------------------------------------------------------------------------\u001b[0m",
      "\u001b[0;31mTypeError\u001b[0m                                 Traceback (most recent call last)",
      "\u001b[0;32m<ipython-input-53-6c1def9f4afe>\u001b[0m in \u001b[0;36m<module>\u001b[0;34m()\u001b[0m\n\u001b[0;32m----> 1\u001b[0;31m \u001b[0;36m1\u001b[0m\u001b[0;34m*\u001b[0m\u001b[0md\u001b[0m\u001b[0;34m\u001b[0m\u001b[0m\n\u001b[0m",
      "\u001b[0;31mTypeError\u001b[0m: unsupported operand type(s) for *: 'int' and 'datetime.datetime'"
     ]
    }
   ],
   "source": [
    "1*d"
   ]
  },
  {
   "cell_type": "code",
   "execution_count": null,
   "metadata": {
    "collapsed": true
   },
   "outputs": [],
   "source": []
  }
 ],
 "metadata": {
  "kernelspec": {
   "display_name": "Python 2",
   "language": "python",
   "name": "python2"
  },
  "language_info": {
   "codemirror_mode": {
    "name": "ipython",
    "version": 2
   },
   "file_extension": ".py",
   "mimetype": "text/x-python",
   "name": "python",
   "nbconvert_exporter": "python",
   "pygments_lexer": "ipython2",
   "version": "2.7.11"
  }
 },
 "nbformat": 4,
 "nbformat_minor": 0
}
